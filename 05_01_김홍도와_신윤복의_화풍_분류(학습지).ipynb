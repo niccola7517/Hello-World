{
  "cells": [
    {
      "cell_type": "markdown",
      "metadata": {
        "id": "view-in-github",
        "colab_type": "text"
      },
      "source": [
        "<a href=\"https://colab.research.google.com/github/niccola7517/Hello-World/blob/master/05_01_%EA%B9%80%ED%99%8D%EB%8F%84%EC%99%80_%EC%8B%A0%EC%9C%A4%EB%B3%B5%EC%9D%98_%ED%99%94%ED%92%8D_%EB%B6%84%EB%A5%98(%ED%95%99%EC%8A%B5%EC%A7%80).ipynb\" target=\"_parent\"><img src=\"https://colab.research.google.com/assets/colab-badge.svg\" alt=\"Open In Colab\"/></a>"
      ]
    },
    {
      "cell_type": "markdown",
      "source": [
        "# 10. 김홍도와 신윤복의 화풍 분류"
      ],
      "metadata": {
        "id": "FuVAJZ6v3fWO"
      }
    },
    {
      "cell_type": "markdown",
      "source": [
        "*   이미지 학습 알고리즘 중 CNN에 대해 이해한다.\n",
        "*   이미지 데이터 수집 및 전처리 방법을 이해한다.\n",
        "*   기초 수준의 이미지 학습 인공지능 모델을 제작한다."
      ],
      "metadata": {
        "id": "kazBYK2I1Ixl"
      }
    },
    {
      "cell_type": "markdown",
      "source": [
        "### CNN이란?\n",
        "\n",
        "\n",
        "*   일반적인 딥러닝에서 이미지 처리시 문제점을 보완함. 이미지 특징을 유지한채 학습하는 것이 큰 특징.\n",
        "\n",
        "*   **Convolution(컨볼루션)** : 이미지의 각 특징을 부분적으로 가져오는 과정. 이미지 크기보다 작은 필터를 사용하여, 특징을 판별한다.\n",
        "*   **Pooling(풀링):** Convolution과정에서 나오는 많은 수의 결과 값을 축소해 주는 과정. 특징을 뽑아내고 나머지 값은 버린다.\n",
        "*   Convolution(컨볼루션)과정과 Pooling(풀링)을 반복하여, 최종적으로 도출된 2차원 데이터를 1차원으로 변형하고(Flatten) 이후 네트워크를 통해서 결과를 출력한다\n",
        "\n"
      ],
      "metadata": {
        "id": "OVKEmphi37Ja"
      }
    },
    {
      "cell_type": "markdown",
      "metadata": {
        "id": "an-8JZGln-fa"
      },
      "source": [
        "#1. 구글 드라이브 연동\n",
        "이미지 폴더(pic)를 구글 드라이브에 업로드 한 후, 코랩에 연동한다."
      ]
    },
    {
      "cell_type": "code",
      "execution_count": null,
      "metadata": {
        "id": "ZlOEDtpsvTwu"
      },
      "outputs": [],
      "source": [
        "import os\n",
        "import glob\n",
        "import matplotlib.pyplot as plt"
      ]
    },
    {
      "cell_type": "code",
      "execution_count": null,
      "metadata": {
        "id": "LmInUP3qvV6k"
      },
      "outputs": [],
      "source": [
        "from google.colab import drive\n",
        "drive.mount('/gdrive', force_remount=True)"
      ]
    },
    {
      "cell_type": "markdown",
      "metadata": {
        "id": "wtGWfJXBoBct"
      },
      "source": [
        "#2. 경로 지정 및 파일 이름 저장\n",
        "\n",
        "  \n",
        "\n",
        "> * 초기경로 : /gdrive/Mydrive\n",
        "*   신윤복 학습데이터 : 초기경로 + /Shin\n",
        "*   김홍도 학습데이터 : 초기경로 + /Kim\n",
        "\n",
        "---\n",
        "*   파일 이름 리스트 저장 : Os 모듈의 listdir() 함수 이용\n",
        "\n",
        "*   경로 지정 작업과 파일 이름 리스트 저장 작업을 완료하면 파일 이름과 갯갯수 확인가능"
      ]
    },
    {
      "cell_type": "code",
      "execution_count": null,
      "metadata": {
        "id": "z_ZW98RqvWyM"
      },
      "outputs": [],
      "source": [
        "path = \"/gdrive/MyDrive/pic\"\n",
        "\n",
        "# 신윤복/김흥도 데이터셋 경로 지정\n",
        "train_shin_dir = _____ + '/Shin'\n",
        "train_kim_dir = _____ + '/Kim'\n",
        "\n",
        "# 신윤복 파일 이름 리스트\n",
        "train_shin_names = _______________________\n",
        "print(train_shin_names[:10])\n",
        "\n",
        "# 김흥도 파일 이름 리스트\n",
        "train_kim_names = ________________________\n",
        "print(train_kim_names[:10])\n",
        "\n",
        "# 신윤복/김흥도 총 이미지 파일 개수\n",
        "print('total training shin images:', len(_____________________________)\n",
        "print('total training kim images:', len(_____________________________)"
      ]
    },
    {
      "cell_type": "markdown",
      "source": [
        "이미지 파일이 담긴 파일을 glob(  )함수로 리스트로 묶는다."
      ],
      "metadata": {
        "id": "oQFSsi6H5OIL"
      }
    },
    {
      "cell_type": "code",
      "execution_count": null,
      "metadata": {
        "id": "tqueVPIZQxud"
      },
      "outputs": [],
      "source": [
        "train_shin = glob.________________________\n",
        "train_kim = glob._______________________"
      ]
    },
    {
      "cell_type": "markdown",
      "source": [
        "이미지 처리를 위한 모듈인 cv2와 imshow를 호출하고 아래와 같이 이미지 파일을 읽는 함수를 정의한다.\n",
        "\n",
        "*   cvtColor(  ) 함수 :  파랑, 초록, 빨강(BGR) 순 -> 빨강, 초록, 파랑(RGB)순으로 변환"
      ],
      "metadata": {
        "id": "AHQirOxd6RLT"
      }
    },
    {
      "cell_type": "code",
      "execution_count": null,
      "metadata": {
        "id": "gOxd9HhqQsXz"
      },
      "outputs": [],
      "source": [
        "import cv2\n",
        "from matplotlib.pyplot import imshow\n",
        "\n",
        "#이미지를 읽는 함수\n",
        "def read_img(file_path):\n",
        "  img_arr = cv2.imread(file_path)\n",
        "  return cv2.cvtColor(img_arr, cv2.COLOR_BGR2RGB) #BGR을 RGB로"
      ]
    },
    {
      "cell_type": "markdown",
      "source": [
        "이미지를 불러와 시각화하기\n",
        "\n",
        "\n",
        "*   random.sample : 임의의 이미지 불러오기\n",
        "*   행 (column)과 열(row)은 2×2\n",
        "*   plt.subplots(  ) 함수로 표시할 이미지 개수와 사이즈를 설정\n",
        "*  imshow(  ) 함수로 이미지 나타내기"
      ],
      "metadata": {
        "id": "1b6-Xa3Z6pgg"
      }
    },
    {
      "cell_type": "code",
      "execution_count": null,
      "metadata": {
        "id": "zVbKY9GiQlXq"
      },
      "outputs": [],
      "source": [
        "#이미지 확인하기 - 2개씩\n",
        "\n",
        "import random\n",
        "img_arrs = []\n",
        "img_num = range(0, 26)\n",
        "\n",
        "for i in random.sample(img_num, 2):\n",
        "  img_arrs.append(_______________________)\n",
        "  img_arrs.append(_______________________)\n",
        "\n",
        "rows = 2\n",
        "colums = 2\n",
        "\n",
        "fig, axes = plt.subplots(______________________________________________________)\n",
        "\n",
        "for num in range(1, rows*colums+1):\n",
        "  fig.add_subplot(rows, colums, num)\n",
        "  idx = num - 1\n",
        "  plt.imshow(img_arrs[idx], aspect='auto')\n",
        "  plt.xlabel(f'{img_arrs[idx].shape}', fontsize = 12)\n",
        "\n",
        "fig.tight_layout()\n",
        "\n",
        "cols = ['Shin', 'Kim'] #제목\n",
        "\n",
        "for folder_idx, ax in enumerate(axes[0]):\n",
        "  ax.set_title(cols[folder_idx])\n",
        "\n",
        "for idx, ax in enumerate(axes.flat):\n",
        "  ax.set_xticks([])\n",
        "  ax.set_yticks([])"
      ]
    },
    {
      "cell_type": "markdown",
      "source": [
        "# 3. 이미지 데이터 전처리하기\n",
        "\n"
      ],
      "metadata": {
        "id": "GrBDjNOU7dbS"
      }
    },
    {
      "cell_type": "markdown",
      "source": [
        "이미지 모듈을 호출하고 이를 이용하여 이미지 전처리를 해 보자\n",
        "\n",
        "인공지능 학습을 위해서는 동일한 크기의 이미지 데이터로 변환해야 한다\n",
        "\n",
        "*   img.resize(  ) 함수로 크기를 변환 (예제에서는 300×300)\n",
        "*   변환된 이미지를 다른 폴더에 저장 (예제에서는 re_shin, re_kim)"
      ],
      "metadata": {
        "id": "iSKVDJqO7AXZ"
      }
    },
    {
      "cell_type": "code",
      "execution_count": null,
      "metadata": {
        "id": "kXnTtArCv9hc"
      },
      "outputs": [],
      "source": [
        "from PIL import Image"
      ]
    },
    {
      "cell_type": "code",
      "execution_count": null,
      "metadata": {
        "id": "QFhWw7UJwN2g"
      },
      "outputs": [],
      "source": [
        "for i in train_shin_names:\n",
        "  img = Image.open(train_shin_dir + '/' + i)\n",
        "\n",
        "  img_resize = _________________________\n",
        "  img_resize.save('/gdrive/MyDrive/pic/train/re_shin/'+ i)"
      ]
    },
    {
      "cell_type": "code",
      "execution_count": null,
      "metadata": {
        "id": "dwlVvlvI0Acs"
      },
      "outputs": [],
      "source": [
        "for i in train_kim_names:\n",
        "  img = Image.open(train_kim_dir + '/' + i)\n",
        "\n",
        "  img_resize = _________________________\n",
        "  img_resize.save('/gdrive/MyDrive/pic/train/re_kim/'+ i)"
      ]
    },
    {
      "cell_type": "markdown",
      "source": [
        "# 4. CNN 모델 생성하기"
      ],
      "metadata": {
        "id": "5PtkEDfF7mAv"
      }
    },
    {
      "cell_type": "markdown",
      "source": [
        "텐서플로 모듈을 호출하고 Convolution과 Pooling 과정을 반복하여 CNN 모델을 생성한다.\n",
        "\n",
        "\n",
        "*   Conv2D : Convolution을 해 주는 함수\n",
        "*   MaxPool2D: Pooling을 해 주는 함수 (최대 풀링)\n",
        "\n",
        "---\n",
        "\n",
        "\n",
        "*   Conv2D의 첫 번째 인자는 필터 값을 의미\n",
        "*   두 번째 인자(3, 3)는 필터 사이즈\n",
        "*   첫 번째 Convolution 과정에는 이미지 데이터 정보(300, 300 , 3)를 inputshape으로 전달항목 추가\n",
        "---\n",
        "*   최댓값으로 Pooling을 진행\n",
        "*   매개 변수(2,2)로 필터의 크기를 설정\n",
        "---\n",
        "*   Flatten(  ) 함수를 통해 2차원 데이터를 1차원 데이터로 변환\n",
        "*   Dense(  ) 과정을 통해 딥러닝으로 학습\n"
      ],
      "metadata": {
        "id": "sp8VrSSt7n5o"
      }
    },
    {
      "cell_type": "code",
      "execution_count": null,
      "metadata": {
        "id": "cJQfmG86xkCS"
      },
      "outputs": [],
      "source": [
        "import tensorflow as tf\n",
        "\n",
        "model = tf.keras.models.Sequential([\n",
        "    # The first convolution\n",
        "    tf.keras.layers.Conv2D(______________________________________________________________________),\n",
        "    tf.keras.layers.MaxPool2D(______),\n",
        "    # The second convolution\n",
        "    tf.keras.layers.Conv2D(_______________________________),\n",
        "    tf.keras.layers.MaxPool2D(______),\n",
        "    # The third convolution\n",
        "    tf.keras.layers.Conv2D(_______________________________),\n",
        "    tf.keras.layers.MaxPool2D(______),\n",
        "    # The fourth convolution\n",
        "    tf.keras.layers.Conv2D(_______________________________),\n",
        "    tf.keras.layers.MaxPool2D(______),\n",
        "    # The fifth convolution\n",
        "    tf.keras.layers.Conv2D(_______________________________),\n",
        "    tf.keras.layers.MaxPool2D(______),\n",
        "    # Flatten\n",
        "    tf.keras.layers.Flatten(),\n",
        "    # 512 Neuron (Hidden layer)\n",
        "    tf.keras.layers.Dense(_______________________________),\n",
        "    # 1 Output neuron\n",
        "    tf.keras.layers.Dense(_______________________________)\n",
        "])\n",
        "\n",
        "model.summary()"
      ]
    },
    {
      "cell_type": "markdown",
      "source": [
        "# 5. CNN 모델 컴파일\n"
      ],
      "metadata": {
        "id": "r0XJ4xyj8aWV"
      }
    },
    {
      "cell_type": "markdown",
      "source": [
        "optimizer(최적화 기법)로 **RMSprop**를 사용\n",
        "\n",
        "*   경사 하강 시 스텝 사이즈를 조절하는 특징을 가짐\n",
        "*   장점 : 학습률을 쉽게 줄일 수 있고 이미지학습에서 평균적으로 오차가 더 작다.\n"
      ],
      "metadata": {
        "id": "vWDFDcYl8f1Q"
      }
    },
    {
      "cell_type": "code",
      "execution_count": null,
      "metadata": {
        "id": "gCKaV-mkyXnV"
      },
      "outputs": [],
      "source": [
        "from tensorflow.keras.optimizers import ___________\n",
        "\n",
        "model.compile(loss='binary_crossentropy', optimizer=RMSprop(lr=0.001),\n",
        "            metrics=['accuracy'])"
      ]
    },
    {
      "cell_type": "markdown",
      "source": [
        "\n",
        "\n",
        "*   데이터 설정 목적을 위해 ImageDataGenerator를 사용한다\n",
        "*   RGB 값을 255로 나누어 0~1사이의 값으로 정규화하는 과정을 진행(Rescale)\n",
        "*   경로 설정과 이미지 크기, batch_size, 분류 모드를 설정\n",
        "\n",
        "\n"
      ],
      "metadata": {
        "id": "fOO7wv588wkH"
      }
    },
    {
      "cell_type": "code",
      "execution_count": null,
      "metadata": {
        "id": "kFnYOVjt0Tui"
      },
      "outputs": [],
      "source": [
        "from tensorflow.keras.preprocessing.image import ______________________\n",
        "\n",
        "train_datagen = _________________________________\n",
        "\n",
        "train_generator = train_datagen.flow_from_directory(\n",
        "   path + '/train', target_size=(300, 300),\n",
        "  batch_size=7, class_mode='binary'\n",
        ")"
      ]
    },
    {
      "cell_type": "markdown",
      "source": [
        "# 6. CNN 모델 학습\n",
        "모델 fit을 설정하여 학습을 진행한다."
      ],
      "metadata": {
        "id": "oIPzS1TM9KLz"
      }
    },
    {
      "cell_type": "code",
      "execution_count": null,
      "metadata": {
        "id": "9F7_F8Pf0f-Z"
      },
      "outputs": [],
      "source": [
        "history = model.fit(__________________________________________________________________)\n",
        "# train_generator : 학습 데이터\n",
        "# steps_per_epoch : 학습에서 사용할 batch 개수\n",
        "# - 데이터의 개수(56)를 bach_size(7)로 나눈 값(8)을 입력\n",
        "# Epochs : 학습 횟수 설정\n",
        "# verbose = 1 : 연산 세부정보가 모두 표시되도록 설정"
      ]
    },
    {
      "cell_type": "markdown",
      "source": [
        "# 7. CNN 모델 테스트"
      ],
      "metadata": {
        "id": "5vYRqaT59zKR"
      }
    },
    {
      "cell_type": "markdown",
      "source": [
        "pic 폴더에 있는 ‘공원춘효도.jpg’ 파일을 다운로드\n",
        "\n",
        "코랩 업로드 모듈을 활용하여 ‘공원춘효도’ 이미지 파일을 업로드 한다.\n"
      ],
      "metadata": {
        "id": "kt00iPxc99qu"
      }
    },
    {
      "cell_type": "code",
      "source": [
        "import numpy as np\n",
        "from tensorflow.keras.preprocessing import image"
      ],
      "metadata": {
        "id": "KTJsCWlEmHzs"
      },
      "execution_count": null,
      "outputs": []
    },
    {
      "cell_type": "code",
      "execution_count": null,
      "metadata": {
        "id": "r8tJJcyN6ueK"
      },
      "outputs": [],
      "source": [
        "from google.colab import files\n",
        "\n",
        "uploaded=files.upload()"
      ]
    },
    {
      "cell_type": "code",
      "execution_count": null,
      "metadata": {
        "id": "2DQW-43S9qBx"
      },
      "outputs": [],
      "source": [
        "img1 = Image.open('/content/공원춘효도.jpg')"
      ]
    },
    {
      "cell_type": "markdown",
      "source": [
        "이미지를 읽고 300×300으로 크기로 변환한다."
      ],
      "metadata": {
        "id": "fj58pdhZ-Ycf"
      }
    },
    {
      "cell_type": "code",
      "execution_count": null,
      "metadata": {
        "id": "VeFvCkPJ9sIA"
      },
      "outputs": [],
      "source": [
        "img_resize1 = ______________________\n",
        "img_resize1"
      ]
    },
    {
      "cell_type": "markdown",
      "source": [
        "\n",
        "*   img_to_array(  ) 함수로 정렬 및 넘파이(numpy) 배열에 저장\n",
        "*   expand_dims(  ) 함수로 결과를 담을 공간(차원) 추가\n",
        "*   vstack(  )로 추가된 차원 적재\n"
      ],
      "metadata": {
        "id": "sO9-3Cjl-pgv"
      }
    },
    {
      "cell_type": "code",
      "execution_count": null,
      "metadata": {
        "id": "vTzg59kb98SR"
      },
      "outputs": [],
      "source": [
        "test_img1 =________________________________"
      ]
    },
    {
      "cell_type": "code",
      "execution_count": null,
      "metadata": {
        "id": "OeDuhncN-XHg"
      },
      "outputs": [],
      "source": [
        "test_img1 = ________________________________\n",
        "images1 = np.vstack([__________])"
      ]
    },
    {
      "cell_type": "code",
      "source": [
        "images1"
      ],
      "metadata": {
        "id": "-vxg_W5Gjp8D"
      },
      "execution_count": null,
      "outputs": []
    },
    {
      "cell_type": "markdown",
      "source": [
        " 이미지 전처리를 마친 <공원춘효도>를 model.predict(  )에 넣어 테스트한다.\n"
      ],
      "metadata": {
        "id": "eSMG6Luh-4ND"
      }
    },
    {
      "cell_type": "code",
      "execution_count": null,
      "metadata": {
        "id": "W8tMnfUR-cG1"
      },
      "outputs": [],
      "source": [
        "classes = model.predict(_________________________)"
      ]
    },
    {
      "cell_type": "code",
      "execution_count": null,
      "metadata": {
        "id": "o509Azj_6wKh"
      },
      "outputs": [],
      "source": [
        "print(classes[0])\n",
        "\n",
        "if classes[0]>0:\n",
        "  print(\"Painting by Shin Yun-bok.\")\n",
        "else:\n",
        "  print(\"Painting by Kim Hong-do.\")"
      ]
    },
    {
      "cell_type": "markdown",
      "source": [
        "# 더 알아보기\n",
        "<월하정인> 그림을 크기 변환 및 전처리 하여 테스트를 진행한다"
      ],
      "metadata": {
        "id": "CTqbMXdg--l4"
      }
    },
    {
      "cell_type": "code",
      "source": [
        "uploaded2=files.upload()"
      ],
      "metadata": {
        "id": "lXql4Xx3fS0R"
      },
      "execution_count": null,
      "outputs": []
    },
    {
      "cell_type": "code",
      "execution_count": null,
      "metadata": {
        "id": "G4RW0vHG_KYF"
      },
      "outputs": [],
      "source": [
        "img2 = Image.open('/content/월하정인.jpg')"
      ]
    },
    {
      "cell_type": "code",
      "execution_count": null,
      "metadata": {
        "id": "yOzW_ldX_Qa9"
      },
      "outputs": [],
      "source": [
        "img_resize2 = img2.resize((300, 300))"
      ]
    },
    {
      "cell_type": "code",
      "execution_count": null,
      "metadata": {
        "id": "oQZgr_LY_p3t"
      },
      "outputs": [],
      "source": [
        "test_img2 =image.img_to_array(img_resize2)"
      ]
    },
    {
      "cell_type": "code",
      "execution_count": null,
      "metadata": {
        "id": "TfGI68tJ_q_k"
      },
      "outputs": [],
      "source": [
        "test_img2 = np.expand_dims(test_img2, axis=0)\n",
        "images2 = np.vstack([test_img2])"
      ]
    },
    {
      "cell_type": "code",
      "execution_count": null,
      "metadata": {
        "id": "lXn5bX75_s_l"
      },
      "outputs": [],
      "source": [
        "classes = model.predict(images2, batch_size=10)"
      ]
    },
    {
      "cell_type": "markdown",
      "source": [
        "테스트 결과, **신윤복 작품**으로 판별하는 것을 확인 할 수 있다"
      ],
      "metadata": {
        "id": "UDMPF64F_iMW"
      }
    },
    {
      "cell_type": "code",
      "execution_count": null,
      "metadata": {
        "id": "ION6iKan_uE1"
      },
      "outputs": [],
      "source": [
        "print(classes[0])\n",
        "\n",
        "if classes[0]>0:\n",
        "  print(\"Painting by Shin Yun-bok.\")\n",
        "else:\n",
        "  print(\"Painting by Kim Hong-do.\")\n",
        "img2"
      ]
    },
    {
      "cell_type": "markdown",
      "source": [
        "월하정인의 그림 속의 글을 보면 달의 모양이 이상하다는 것을 알 수 있다.\n",
        "- 그림에서는 초승달이 뜨는 초저녁으로 보이지만 글에서는 한밤 중(11시~1시)으로 적혀 있다.\n",
        "\n",
        "정답은 초승달이 아니라 **개기 월식의 부분**을 그린 것이다!"
      ],
      "metadata": {
        "id": "fExC8yP__RZl"
      }
    },
    {
      "cell_type": "markdown",
      "source": [
        "![image.png](data:image/png;base64,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)"
      ],
      "metadata": {
        "id": "qlbXN3ksvARY"
      }
    }
  ],
  "metadata": {
    "colab": {
      "provenance": [],
      "machine_shape": "hm",
      "include_colab_link": true
    },
    "kernelspec": {
      "display_name": "Python 3",
      "name": "python3"
    },
    "language_info": {
      "name": "python"
    },
    "accelerator": "TPU",
    "gpuClass": "standard"
  },
  "nbformat": 4,
  "nbformat_minor": 0
}